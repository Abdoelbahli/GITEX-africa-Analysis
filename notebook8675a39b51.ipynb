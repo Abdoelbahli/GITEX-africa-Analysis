{
 "cells": [
  {
   "cell_type": "code",
   "execution_count": 2,
   "metadata": {
    "_cell_guid": "b1076dfc-b9ad-4769-8c92-a6c4dae69d19",
    "_uuid": "8f2839f25d086af736a60e9eeb907d3b93b6e0e5"
   },
   "outputs": [],
   "source": [
    "# This Python 3 environment comes with many helpful analytics libraries installed\n",
    "# It is defined by the kaggle/python Docker image: https://github.com/kaggle/docker-python\n",
    "# For example, here's several helpful packages to load\n",
    "\n",
    "import numpy as np # linear algebra\n",
    "import pandas as pd # data processing, CSV file I/O (e.g. pd.read_csv)\n",
    "\n",
    "# Input data files are available in the read-only \"../input/\" directory\n",
    "# For example, running this (by clicking run or pressing Shift+Enter) will list all files under the input directory\n",
    "\n",
    "\n",
    "# You can write up to 20GB to the current directory (/kaggle/working/) that gets preserved as output when you create a version using \"Save & Run All\" \n",
    "# You can also write temporary files to /kaggle/temp/, but they won't be saved outside of the current session"
   ]
  },
  {
   "cell_type": "code",
   "execution_count": null,
   "metadata": {},
   "outputs": [],
   "source": [
    "curl -fsSL https://ollama.com/install.sh | sh\n"
   ]
  },
  {
   "cell_type": "code",
   "execution_count": 4,
   "metadata": {},
   "outputs": [
    {
     "name": "stdout",
     "output_type": "stream",
     "text": [
      "Defaulting to user installation because normal site-packages is not writeable\n",
      "Collecting bash_kernel\n",
      "  Downloading bash_kernel-0.9.3-py2.py3-none-any.whl (617 kB)\n",
      "                                              0.0/617.3 kB ? eta -:--:--\n",
      "                                              10.2/617.3 kB ? eta -:--:--\n",
      "     --                                    41.0/617.3 kB 388.9 kB/s eta 0:00:02\n",
      "     -----                                 92.2/617.3 kB 655.4 kB/s eta 0:00:01\n",
      "     --------                             153.6/617.3 kB 833.5 kB/s eta 0:00:01\n",
      "     -------------------                    317.4/617.3 kB 1.4 MB/s eta 0:00:01\n",
      "     -----------------------------          481.3/617.3 kB 1.7 MB/s eta 0:00:01\n",
      "     -------------------------------------  614.4/617.3 kB 1.9 MB/s eta 0:00:01\n",
      "     -------------------------------------  614.4/617.3 kB 1.9 MB/s eta 0:00:01\n",
      "     -------------------------------------- 617.3/617.3 kB 1.6 MB/s eta 0:00:00\n",
      "Requirement already satisfied: pexpect>=4.0 in c:\\programdata\\anaconda3\\lib\\site-packages (from bash_kernel) (4.8.0)\n",
      "Requirement already satisfied: ipykernel in c:\\users\\pavilion\\appdata\\roaming\\python\\python311\\site-packages (from bash_kernel) (6.29.4)\n",
      "Requirement already satisfied: ptyprocess>=0.5 in c:\\programdata\\anaconda3\\lib\\site-packages (from pexpect>=4.0->bash_kernel) (0.7.0)\n",
      "Requirement already satisfied: comm>=0.1.1 in c:\\users\\pavilion\\appdata\\roaming\\python\\python311\\site-packages (from ipykernel->bash_kernel) (0.2.2)\n",
      "Requirement already satisfied: debugpy>=1.6.5 in c:\\users\\pavilion\\appdata\\roaming\\python\\python311\\site-packages (from ipykernel->bash_kernel) (1.8.1)\n",
      "Requirement already satisfied: ipython>=7.23.1 in c:\\users\\pavilion\\appdata\\roaming\\python\\python311\\site-packages (from ipykernel->bash_kernel) (8.24.0)\n",
      "Requirement already satisfied: jupyter-client>=6.1.12 in c:\\users\\pavilion\\appdata\\roaming\\python\\python311\\site-packages (from ipykernel->bash_kernel) (8.6.1)\n",
      "Requirement already satisfied: jupyter-core!=5.0.*,>=4.12 in c:\\users\\pavilion\\appdata\\roaming\\python\\python311\\site-packages (from ipykernel->bash_kernel) (5.7.2)\n",
      "Requirement already satisfied: matplotlib-inline>=0.1 in c:\\users\\pavilion\\appdata\\roaming\\python\\python311\\site-packages (from ipykernel->bash_kernel) (0.1.7)\n",
      "Requirement already satisfied: nest-asyncio in c:\\users\\pavilion\\appdata\\roaming\\python\\python311\\site-packages (from ipykernel->bash_kernel) (1.6.0)\n",
      "Requirement already satisfied: packaging in c:\\users\\pavilion\\appdata\\roaming\\python\\python311\\site-packages (from ipykernel->bash_kernel) (24.0)\n",
      "Requirement already satisfied: psutil in c:\\users\\pavilion\\appdata\\roaming\\python\\python311\\site-packages (from ipykernel->bash_kernel) (5.9.8)\n",
      "Requirement already satisfied: pyzmq>=24 in c:\\users\\pavilion\\appdata\\roaming\\python\\python311\\site-packages (from ipykernel->bash_kernel) (26.0.3)\n",
      "Requirement already satisfied: tornado>=6.1 in c:\\users\\pavilion\\appdata\\roaming\\python\\python311\\site-packages (from ipykernel->bash_kernel) (6.4)\n",
      "Requirement already satisfied: traitlets>=5.4.0 in c:\\users\\pavilion\\appdata\\roaming\\python\\python311\\site-packages (from ipykernel->bash_kernel) (5.14.3)\n",
      "Requirement already satisfied: decorator in c:\\users\\pavilion\\appdata\\roaming\\python\\python311\\site-packages (from ipython>=7.23.1->ipykernel->bash_kernel) (5.1.1)\n",
      "Requirement already satisfied: jedi>=0.16 in c:\\users\\pavilion\\appdata\\roaming\\python\\python311\\site-packages (from ipython>=7.23.1->ipykernel->bash_kernel) (0.19.1)\n",
      "Requirement already satisfied: prompt-toolkit<3.1.0,>=3.0.41 in c:\\users\\pavilion\\appdata\\roaming\\python\\python311\\site-packages (from ipython>=7.23.1->ipykernel->bash_kernel) (3.0.43)\n",
      "Requirement already satisfied: pygments>=2.4.0 in c:\\users\\pavilion\\appdata\\roaming\\python\\python311\\site-packages (from ipython>=7.23.1->ipykernel->bash_kernel) (2.18.0)\n",
      "Requirement already satisfied: stack-data in c:\\users\\pavilion\\appdata\\roaming\\python\\python311\\site-packages (from ipython>=7.23.1->ipykernel->bash_kernel) (0.6.3)\n",
      "Requirement already satisfied: typing-extensions>=4.6 in c:\\programdata\\anaconda3\\lib\\site-packages (from ipython>=7.23.1->ipykernel->bash_kernel) (4.11.0)\n",
      "Requirement already satisfied: colorama in c:\\users\\pavilion\\appdata\\roaming\\python\\python311\\site-packages (from ipython>=7.23.1->ipykernel->bash_kernel) (0.4.6)\n",
      "Requirement already satisfied: python-dateutil>=2.8.2 in c:\\users\\pavilion\\appdata\\roaming\\python\\python311\\site-packages (from jupyter-client>=6.1.12->ipykernel->bash_kernel) (2.9.0.post0)\n",
      "Requirement already satisfied: platformdirs>=2.5 in c:\\users\\pavilion\\appdata\\roaming\\python\\python311\\site-packages (from jupyter-core!=5.0.*,>=4.12->ipykernel->bash_kernel) (4.2.1)\n",
      "Requirement already satisfied: pywin32>=300 in c:\\users\\pavilion\\appdata\\roaming\\python\\python311\\site-packages (from jupyter-core!=5.0.*,>=4.12->ipykernel->bash_kernel) (306)\n",
      "Requirement already satisfied: parso<0.9.0,>=0.8.3 in c:\\users\\pavilion\\appdata\\roaming\\python\\python311\\site-packages (from jedi>=0.16->ipython>=7.23.1->ipykernel->bash_kernel) (0.8.4)\n",
      "Requirement already satisfied: wcwidth in c:\\users\\pavilion\\appdata\\roaming\\python\\python311\\site-packages (from prompt-toolkit<3.1.0,>=3.0.41->ipython>=7.23.1->ipykernel->bash_kernel) (0.2.13)\n",
      "Requirement already satisfied: six>=1.5 in c:\\programdata\\anaconda3\\lib\\site-packages (from python-dateutil>=2.8.2->jupyter-client>=6.1.12->ipykernel->bash_kernel) (1.16.0)\n",
      "Requirement already satisfied: executing>=1.2.0 in c:\\users\\pavilion\\appdata\\roaming\\python\\python311\\site-packages (from stack-data->ipython>=7.23.1->ipykernel->bash_kernel) (2.0.1)\n",
      "Requirement already satisfied: asttokens>=2.1.0 in c:\\users\\pavilion\\appdata\\roaming\\python\\python311\\site-packages (from stack-data->ipython>=7.23.1->ipykernel->bash_kernel) (2.4.1)\n",
      "Requirement already satisfied: pure-eval in c:\\users\\pavilion\\appdata\\roaming\\python\\python311\\site-packages (from stack-data->ipython>=7.23.1->ipykernel->bash_kernel) (0.2.2)\n",
      "Installing collected packages: bash_kernel\n",
      "Successfully installed bash_kernel-0.9.3\n",
      "Installing IPython kernel spec\n"
     ]
    }
   ],
   "source": [
    "!pip install bash_kernel\n",
    "!python -m bash_kernel.install\n"
   ]
  },
  {
   "cell_type": "code",
   "execution_count": 1,
   "metadata": {},
   "outputs": [
    {
     "name": "stderr",
     "output_type": "stream",
     "text": [
      "'ollama' n’est pas reconnu en tant que commande interne\n",
      "ou externe, un programme exécutable ou un fichier de commandes.\n",
      "'ollama' n’est pas reconnu en tant que commande interne\n",
      "ou externe, un programme exécutable ou un fichier de commandes.\n"
     ]
    }
   ],
   "source": [
    "! ollama serve & ollama run gemma:7b"
   ]
  },
  {
   "cell_type": "code",
   "execution_count": null,
   "metadata": {},
   "outputs": [],
   "source": []
  },
  {
   "cell_type": "code",
   "execution_count": 5,
   "metadata": {
    "execution": {
     "iopub.execute_input": "2024-05-19T19:06:31.226488Z",
     "iopub.status.busy": "2024-05-19T19:06:31.226086Z",
     "iopub.status.idle": "2024-05-19T19:06:44.220760Z",
     "shell.execute_reply": "2024-05-19T19:06:44.219252Z",
     "shell.execute_reply.started": "2024-05-19T19:06:31.226452Z"
    }
   },
   "outputs": [
    {
     "name": "stdout",
     "output_type": "stream",
     "text": [
      "Requirement already satisfied: langchain_community in /opt/conda/lib/python3.10/site-packages (0.2.0)\n",
      "Requirement already satisfied: PyYAML>=5.3 in /opt/conda/lib/python3.10/site-packages (from langchain_community) (6.0.1)\n",
      "Requirement already satisfied: SQLAlchemy<3,>=1.4 in /opt/conda/lib/python3.10/site-packages (from langchain_community) (2.0.25)\n",
      "Requirement already satisfied: aiohttp<4.0.0,>=3.8.3 in /opt/conda/lib/python3.10/site-packages (from langchain_community) (3.9.1)\n",
      "Requirement already satisfied: dataclasses-json<0.7,>=0.5.7 in /opt/conda/lib/python3.10/site-packages (from langchain_community) (0.6.4)\n",
      "Requirement already satisfied: langchain<0.3.0,>=0.2.0 in /opt/conda/lib/python3.10/site-packages (from langchain_community) (0.2.0)\n",
      "Requirement already satisfied: langchain-core<0.3.0,>=0.2.0 in /opt/conda/lib/python3.10/site-packages (from langchain_community) (0.2.0)\n",
      "Requirement already satisfied: langsmith<0.2.0,>=0.1.0 in /opt/conda/lib/python3.10/site-packages (from langchain_community) (0.1.59)\n",
      "Requirement already satisfied: numpy<2,>=1 in /opt/conda/lib/python3.10/site-packages (from langchain_community) (1.26.4)\n",
      "Requirement already satisfied: requests<3,>=2 in /opt/conda/lib/python3.10/site-packages (from langchain_community) (2.31.0)\n",
      "Requirement already satisfied: tenacity<9.0.0,>=8.1.0 in /opt/conda/lib/python3.10/site-packages (from langchain_community) (8.2.3)\n",
      "Requirement already satisfied: attrs>=17.3.0 in /opt/conda/lib/python3.10/site-packages (from aiohttp<4.0.0,>=3.8.3->langchain_community) (23.2.0)\n",
      "Requirement already satisfied: multidict<7.0,>=4.5 in /opt/conda/lib/python3.10/site-packages (from aiohttp<4.0.0,>=3.8.3->langchain_community) (6.0.4)\n",
      "Requirement already satisfied: yarl<2.0,>=1.0 in /opt/conda/lib/python3.10/site-packages (from aiohttp<4.0.0,>=3.8.3->langchain_community) (1.9.3)\n",
      "Requirement already satisfied: frozenlist>=1.1.1 in /opt/conda/lib/python3.10/site-packages (from aiohttp<4.0.0,>=3.8.3->langchain_community) (1.4.1)\n",
      "Requirement already satisfied: aiosignal>=1.1.2 in /opt/conda/lib/python3.10/site-packages (from aiohttp<4.0.0,>=3.8.3->langchain_community) (1.3.1)\n",
      "Requirement already satisfied: async-timeout<5.0,>=4.0 in /opt/conda/lib/python3.10/site-packages (from aiohttp<4.0.0,>=3.8.3->langchain_community) (4.0.3)\n",
      "Requirement already satisfied: marshmallow<4.0.0,>=3.18.0 in /opt/conda/lib/python3.10/site-packages (from dataclasses-json<0.7,>=0.5.7->langchain_community) (3.21.1)\n",
      "Requirement already satisfied: typing-inspect<1,>=0.4.0 in /opt/conda/lib/python3.10/site-packages (from dataclasses-json<0.7,>=0.5.7->langchain_community) (0.9.0)\n",
      "Requirement already satisfied: langchain-text-splitters<0.3.0,>=0.2.0 in /opt/conda/lib/python3.10/site-packages (from langchain<0.3.0,>=0.2.0->langchain_community) (0.2.0)\n",
      "Requirement already satisfied: pydantic<3,>=1 in /opt/conda/lib/python3.10/site-packages (from langchain<0.3.0,>=0.2.0->langchain_community) (2.5.3)\n",
      "Requirement already satisfied: jsonpatch<2.0,>=1.33 in /opt/conda/lib/python3.10/site-packages (from langchain-core<0.3.0,>=0.2.0->langchain_community) (1.33)\n",
      "Requirement already satisfied: packaging<24.0,>=23.2 in /opt/conda/lib/python3.10/site-packages (from langchain-core<0.3.0,>=0.2.0->langchain_community) (23.2)\n",
      "Requirement already satisfied: orjson<4.0.0,>=3.9.14 in /opt/conda/lib/python3.10/site-packages (from langsmith<0.2.0,>=0.1.0->langchain_community) (3.10.3)\n",
      "Requirement already satisfied: charset-normalizer<4,>=2 in /opt/conda/lib/python3.10/site-packages (from requests<3,>=2->langchain_community) (3.3.2)\n",
      "Requirement already satisfied: idna<4,>=2.5 in /opt/conda/lib/python3.10/site-packages (from requests<3,>=2->langchain_community) (3.6)\n",
      "Requirement already satisfied: urllib3<3,>=1.21.1 in /opt/conda/lib/python3.10/site-packages (from requests<3,>=2->langchain_community) (1.26.18)\n",
      "Requirement already satisfied: certifi>=2017.4.17 in /opt/conda/lib/python3.10/site-packages (from requests<3,>=2->langchain_community) (2024.2.2)\n",
      "Requirement already satisfied: typing-extensions>=4.6.0 in /opt/conda/lib/python3.10/site-packages (from SQLAlchemy<3,>=1.4->langchain_community) (4.9.0)\n",
      "Requirement already satisfied: greenlet!=0.4.17 in /opt/conda/lib/python3.10/site-packages (from SQLAlchemy<3,>=1.4->langchain_community) (3.0.3)\n",
      "Requirement already satisfied: jsonpointer>=1.9 in /opt/conda/lib/python3.10/site-packages (from jsonpatch<2.0,>=1.33->langchain-core<0.3.0,>=0.2.0->langchain_community) (2.4)\n",
      "Requirement already satisfied: annotated-types>=0.4.0 in /opt/conda/lib/python3.10/site-packages (from pydantic<3,>=1->langchain<0.3.0,>=0.2.0->langchain_community) (0.6.0)\n",
      "Requirement already satisfied: pydantic-core==2.14.6 in /opt/conda/lib/python3.10/site-packages (from pydantic<3,>=1->langchain<0.3.0,>=0.2.0->langchain_community) (2.14.6)\n",
      "Requirement already satisfied: mypy-extensions>=0.3.0 in /opt/conda/lib/python3.10/site-packages (from typing-inspect<1,>=0.4.0->dataclasses-json<0.7,>=0.5.7->langchain_community) (1.0.0)\n"
     ]
    }
   ],
   "source": [
    "!pip install langchain_community"
   ]
  },
  {
   "cell_type": "code",
   "execution_count": 6,
   "metadata": {
    "execution": {
     "iopub.execute_input": "2024-05-19T19:06:44.223528Z",
     "iopub.status.busy": "2024-05-19T19:06:44.223125Z",
     "iopub.status.idle": "2024-05-19T19:06:45.032294Z",
     "shell.execute_reply": "2024-05-19T19:06:45.031120Z",
     "shell.execute_reply.started": "2024-05-19T19:06:44.223487Z"
    }
   },
   "outputs": [],
   "source": [
    "from langchain_community.llms import Ollama"
   ]
  },
  {
   "cell_type": "code",
   "execution_count": 7,
   "metadata": {
    "execution": {
     "iopub.execute_input": "2024-05-19T19:08:03.042833Z",
     "iopub.status.busy": "2024-05-19T19:08:03.042110Z",
     "iopub.status.idle": "2024-05-19T19:08:03.055291Z",
     "shell.execute_reply": "2024-05-19T19:08:03.054004Z",
     "shell.execute_reply.started": "2024-05-19T19:08:03.042781Z"
    }
   },
   "outputs": [],
   "source": [
    "llm = Ollama(model = \"gemma:7b\")"
   ]
  },
  {
   "cell_type": "code",
   "execution_count": 8,
   "metadata": {
    "execution": {
     "iopub.execute_input": "2024-05-19T19:08:20.901010Z",
     "iopub.status.busy": "2024-05-19T19:08:20.900597Z",
     "iopub.status.idle": "2024-05-19T19:08:20.908951Z",
     "shell.execute_reply": "2024-05-19T19:08:20.907953Z",
     "shell.execute_reply.started": "2024-05-19T19:08:20.900979Z"
    }
   },
   "outputs": [
    {
     "data": {
      "text/plain": [
       "Ollama(model='gemma:7b')"
      ]
     },
     "execution_count": 8,
     "metadata": {},
     "output_type": "execute_result"
    }
   ],
   "source": [
    "llm"
   ]
  },
  {
   "cell_type": "code",
   "execution_count": null,
   "metadata": {},
   "outputs": [],
   "source": [
    "llm.invoke(\"can you help in extracting information from texts ?\")"
   ]
  },
  {
   "cell_type": "code",
   "execution_count": 6,
   "metadata": {},
   "outputs": [
    {
     "data": {
      "text/plain": [
       "0       01TALENT AFRICA Gaming, Education Tech, Cyber ...\n",
       "1       212 FOUNDERS BY CDG INVEST Digital Finance, In...\n",
       "2       3GCOM SARL  One of the leading global system i...\n",
       "3       3LABAL.APP Incubator/Accelerator/Investment Si...\n",
       "4       3N SYSTÈMES Cyber security, Cloud Services, Bi...\n",
       "                              ...                        \n",
       "1106    AgriMinga No categories available No descripti...\n",
       "1107    Agrocenta No categories available No descripti...\n",
       "1108    Ahad International FZC Limited- ICT ~ Recital ...\n",
       "1109    Alkemyst: Design and Recycling No categories a...\n",
       "1110    Amazon Project Kuiper No categories available ...\n",
       "Name: combined_text, Length: 1111, dtype: object"
      ]
     },
     "execution_count": 6,
     "metadata": {},
     "output_type": "execute_result"
    }
   ],
   "source": [
    "df2['combined_text']"
   ]
  },
  {
   "cell_type": "code",
   "execution_count": 5,
   "metadata": {},
   "outputs": [
    {
     "data": {
      "text/html": [
       "<div>\n",
       "<style scoped>\n",
       "    .dataframe tbody tr th:only-of-type {\n",
       "        vertical-align: middle;\n",
       "    }\n",
       "\n",
       "    .dataframe tbody tr th {\n",
       "        vertical-align: top;\n",
       "    }\n",
       "\n",
       "    .dataframe thead th {\n",
       "        text-align: right;\n",
       "    }\n",
       "</style>\n",
       "<table border=\"1\" class=\"dataframe\">\n",
       "  <thead>\n",
       "    <tr style=\"text-align: right;\">\n",
       "      <th></th>\n",
       "      <th>Company</th>\n",
       "      <th>Stand Info</th>\n",
       "      <th>Country</th>\n",
       "      <th>Description</th>\n",
       "      <th>Keywords</th>\n",
       "      <th>combined_text</th>\n",
       "      <th>competitor</th>\n",
       "    </tr>\n",
       "  </thead>\n",
       "  <tbody>\n",
       "    <tr>\n",
       "      <th>0</th>\n",
       "      <td>01TALENT AFRICA</td>\n",
       "      <td>Stand No- 14A-16, Hall 14</td>\n",
       "      <td>Portugal</td>\n",
       "      <td>01Talent Africa is both a Talent factory and a...</td>\n",
       "      <td>Gaming, Education Tech, Cyber security, Coding...</td>\n",
       "      <td>01TALENT AFRICA Gaming, Education Tech, Cyber ...</td>\n",
       "      <td>8</td>\n",
       "    </tr>\n",
       "    <tr>\n",
       "      <th>1</th>\n",
       "      <td>212 FOUNDERS BY CDG INVEST</td>\n",
       "      <td>Stand No- 9A-10, Hall 9</td>\n",
       "      <td>Morocco</td>\n",
       "      <td>212 Founders is an acceleration and investment...</td>\n",
       "      <td>Digital Finance, Incubator/Accelerator/Investm...</td>\n",
       "      <td>212 FOUNDERS BY CDG INVEST Digital Finance, In...</td>\n",
       "      <td>1</td>\n",
       "    </tr>\n",
       "    <tr>\n",
       "      <th>2</th>\n",
       "      <td>3GCOM SARL</td>\n",
       "      <td>Stand No- 12C-61, Hall 12</td>\n",
       "      <td>Morocco</td>\n",
       "      <td>One of the leading global system integrator fo...</td>\n",
       "      <td>NaN</td>\n",
       "      <td>3GCOM SARL  One of the leading global system i...</td>\n",
       "      <td>2</td>\n",
       "    </tr>\n",
       "    <tr>\n",
       "      <th>3</th>\n",
       "      <td>3LABAL.APP</td>\n",
       "      <td>Stand No- 9D-23, Hall 9</td>\n",
       "      <td>Morocco</td>\n",
       "      <td>Since its creation in 2010, Khatwa Partners ha...</td>\n",
       "      <td>Incubator/Accelerator/Investment</td>\n",
       "      <td>3LABAL.APP Incubator/Accelerator/Investment Si...</td>\n",
       "      <td>1</td>\n",
       "    </tr>\n",
       "    <tr>\n",
       "      <th>4</th>\n",
       "      <td>3N SYSTÈMES</td>\n",
       "      <td>Stand No- 2D-12, Hall 2</td>\n",
       "      <td>Morocco</td>\n",
       "      <td>IT Integrator: sale and maintenance of compute...</td>\n",
       "      <td>Cyber security, Cloud Services, Big Data &amp; Ana...</td>\n",
       "      <td>3N SYSTÈMES Cyber security, Cloud Services, Bi...</td>\n",
       "      <td>8</td>\n",
       "    </tr>\n",
       "    <tr>\n",
       "      <th>...</th>\n",
       "      <td>...</td>\n",
       "      <td>...</td>\n",
       "      <td>...</td>\n",
       "      <td>...</td>\n",
       "      <td>...</td>\n",
       "      <td>...</td>\n",
       "      <td>...</td>\n",
       "    </tr>\n",
       "    <tr>\n",
       "      <th>1106</th>\n",
       "      <td>AgriMinga</td>\n",
       "      <td>Stand No - 13B-10, Hall No - Hall 13</td>\n",
       "      <td>Burkina Faso</td>\n",
       "      <td>No description available</td>\n",
       "      <td>No categories available</td>\n",
       "      <td>AgriMinga No categories available No descripti...</td>\n",
       "      <td>1</td>\n",
       "    </tr>\n",
       "    <tr>\n",
       "      <th>1107</th>\n",
       "      <td>Agrocenta</td>\n",
       "      <td>Stand No - 18B-45, Hall No - Hall 18</td>\n",
       "      <td>Ghana</td>\n",
       "      <td>No description available</td>\n",
       "      <td>No categories available</td>\n",
       "      <td>Agrocenta No categories available No descripti...</td>\n",
       "      <td>1</td>\n",
       "    </tr>\n",
       "    <tr>\n",
       "      <th>1108</th>\n",
       "      <td>Ahad International FZC Limited- ICT ~ Recital ...</td>\n",
       "      <td>Stand No - 8C-18, Hall No - Hall 8</td>\n",
       "      <td>Nigeria</td>\n",
       "      <td>No description available</td>\n",
       "      <td>No categories available</td>\n",
       "      <td>Ahad International FZC Limited- ICT ~ Recital ...</td>\n",
       "      <td>3</td>\n",
       "    </tr>\n",
       "    <tr>\n",
       "      <th>1109</th>\n",
       "      <td>Alkemyst: Design and Recycling</td>\n",
       "      <td>Stand No - 21C-11, Hall No - Hall 21</td>\n",
       "      <td>Congo, Democratic Republic Of The</td>\n",
       "      <td>No description available</td>\n",
       "      <td>No categories available</td>\n",
       "      <td>Alkemyst: Design and Recycling No categories a...</td>\n",
       "      <td>1</td>\n",
       "    </tr>\n",
       "    <tr>\n",
       "      <th>1110</th>\n",
       "      <td>Amazon Project Kuiper</td>\n",
       "      <td>Stand No - 13C-20, Hall No - Hall 13</td>\n",
       "      <td>United States of America</td>\n",
       "      <td>No description available</td>\n",
       "      <td>No categories available</td>\n",
       "      <td>Amazon Project Kuiper No categories available ...</td>\n",
       "      <td>1</td>\n",
       "    </tr>\n",
       "  </tbody>\n",
       "</table>\n",
       "<p>1111 rows × 7 columns</p>\n",
       "</div>"
      ],
      "text/plain": [
       "                                                Company  \\\n",
       "0                                       01TALENT AFRICA   \n",
       "1                            212 FOUNDERS BY CDG INVEST   \n",
       "2                                            3GCOM SARL   \n",
       "3                                            3LABAL.APP   \n",
       "4                                           3N SYSTÈMES   \n",
       "...                                                 ...   \n",
       "1106                                          AgriMinga   \n",
       "1107                                          Agrocenta   \n",
       "1108  Ahad International FZC Limited- ICT ~ Recital ...   \n",
       "1109                     Alkemyst: Design and Recycling   \n",
       "1110                              Amazon Project Kuiper   \n",
       "\n",
       "                                Stand Info                            Country  \\\n",
       "0                Stand No- 14A-16, Hall 14                           Portugal   \n",
       "1                  Stand No- 9A-10, Hall 9                            Morocco   \n",
       "2                Stand No- 12C-61, Hall 12                            Morocco   \n",
       "3                  Stand No- 9D-23, Hall 9                            Morocco   \n",
       "4                  Stand No- 2D-12, Hall 2                            Morocco   \n",
       "...                                    ...                                ...   \n",
       "1106  Stand No - 13B-10, Hall No - Hall 13                       Burkina Faso   \n",
       "1107  Stand No - 18B-45, Hall No - Hall 18                              Ghana   \n",
       "1108    Stand No - 8C-18, Hall No - Hall 8                            Nigeria   \n",
       "1109  Stand No - 21C-11, Hall No - Hall 21  Congo, Democratic Republic Of The   \n",
       "1110  Stand No - 13C-20, Hall No - Hall 13           United States of America   \n",
       "\n",
       "                                            Description  \\\n",
       "0     01Talent Africa is both a Talent factory and a...   \n",
       "1     212 Founders is an acceleration and investment...   \n",
       "2     One of the leading global system integrator fo...   \n",
       "3     Since its creation in 2010, Khatwa Partners ha...   \n",
       "4     IT Integrator: sale and maintenance of compute...   \n",
       "...                                                 ...   \n",
       "1106                           No description available   \n",
       "1107                           No description available   \n",
       "1108                           No description available   \n",
       "1109                           No description available   \n",
       "1110                           No description available   \n",
       "\n",
       "                                               Keywords  \\\n",
       "0     Gaming, Education Tech, Cyber security, Coding...   \n",
       "1     Digital Finance, Incubator/Accelerator/Investm...   \n",
       "2                                                   NaN   \n",
       "3                      Incubator/Accelerator/Investment   \n",
       "4     Cyber security, Cloud Services, Big Data & Ana...   \n",
       "...                                                 ...   \n",
       "1106                            No categories available   \n",
       "1107                            No categories available   \n",
       "1108                            No categories available   \n",
       "1109                            No categories available   \n",
       "1110                            No categories available   \n",
       "\n",
       "                                          combined_text competitor  \n",
       "0     01TALENT AFRICA Gaming, Education Tech, Cyber ...          8  \n",
       "1     212 FOUNDERS BY CDG INVEST Digital Finance, In...          1  \n",
       "2     3GCOM SARL  One of the leading global system i...          2  \n",
       "3     3LABAL.APP Incubator/Accelerator/Investment Si...          1  \n",
       "4     3N SYSTÈMES Cyber security, Cloud Services, Bi...          8  \n",
       "...                                                 ...        ...  \n",
       "1106  AgriMinga No categories available No descripti...          1  \n",
       "1107  Agrocenta No categories available No descripti...          1  \n",
       "1108  Ahad International FZC Limited- ICT ~ Recital ...          3  \n",
       "1109  Alkemyst: Design and Recycling No categories a...          1  \n",
       "1110  Amazon Project Kuiper No categories available ...          1  \n",
       "\n",
       "[1111 rows x 7 columns]"
      ]
     },
     "execution_count": 5,
     "metadata": {},
     "output_type": "execute_result"
    }
   ],
   "source": [
    "df2"
   ]
  },
  {
   "cell_type": "code",
   "execution_count": 4,
   "metadata": {},
   "outputs": [],
   "source": [
    "df2 = pd.read_csv('classify_competitors_1.csv')"
   ]
  },
  {
   "cell_type": "code",
   "execution_count": 3,
   "metadata": {},
   "outputs": [],
   "source": [
    "import pandas as pd"
   ]
  },
  {
   "cell_type": "code",
   "execution_count": 8,
   "metadata": {},
   "outputs": [],
   "source": [
    "combined_text = df2['combined_text']"
   ]
  },
  {
   "cell_type": "code",
   "execution_count": 9,
   "metadata": {},
   "outputs": [],
   "source": [
    "combined_text.to_csv('combined_text.txt', index=False, header=False)"
   ]
  },
  {
   "cell_type": "code",
   "execution_count": null,
   "metadata": {},
   "outputs": [],
   "source": []
  }
 ],
 "metadata": {
  "kaggle": {
   "accelerator": "none",
   "dataSources": [],
   "dockerImageVersionId": 30698,
   "isGpuEnabled": false,
   "isInternetEnabled": true,
   "language": "python",
   "sourceType": "notebook"
  },
  "kernelspec": {
   "display_name": "Python 3 (ipykernel)",
   "language": "python",
   "name": "python3"
  },
  "language_info": {
   "codemirror_mode": {
    "name": "ipython",
    "version": 3
   },
   "file_extension": ".py",
   "mimetype": "text/x-python",
   "name": "python",
   "nbconvert_exporter": "python",
   "pygments_lexer": "ipython3",
   "version": "3.11.7"
  }
 },
 "nbformat": 4,
 "nbformat_minor": 4
}
